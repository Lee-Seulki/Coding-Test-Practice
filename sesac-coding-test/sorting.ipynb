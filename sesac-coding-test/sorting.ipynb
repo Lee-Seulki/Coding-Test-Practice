{
 "cells": [
  {
   "cell_type": "code",
   "execution_count": 1,
   "metadata": {},
   "outputs": [
    {
     "name": "stdout",
     "output_type": "stream",
     "text": [
      "[0, 1, 2, 3, 4, 5, 6, 7, 8, 9]\n"
     ]
    }
   ],
   "source": [
    "array_temp = [4,6,8,2,3,1,5,9,7,0]\n",
    "\n",
    "# 선택정렬 - 0번째 부터 차례대로 정렬해나가는 알고리즘\n",
    "for i in range(len(array_temp)-1):\n",
    "    # 현재 위치의 값을 최소값으로 저장 (오름차순)\n",
    "    min_value = array_temp[i]\n",
    "    min_index = i\n",
    "    for j in range(i+1, len(array_temp)):\n",
    "        # j index의 값이 min_value보다 작으면,\n",
    "        if min_value > array_temp[j]:\n",
    "            # 최소값 최신화, 최소인덱스 최신화\n",
    "            min_value = array_temp[j]\n",
    "            min_index = j\n",
    "    \n",
    "    # i번째 값을 임시로 저장\n",
    "    temp = array_temp[i]\n",
    "    # i번째 값을 최소값으로 변경\n",
    "    array_temp[i] = array_temp[min_index] # min_value\n",
    "    # 최소값 위치를 위에서 저장한 temp로 바꿈\n",
    "    array_temp[min_index] = temp\n",
    "\n",
    "\n",
    "print(array_temp)"
   ]
  },
  {
   "cell_type": "code",
   "execution_count": 3,
   "metadata": {},
   "outputs": [
    {
     "name": "stdout",
     "output_type": "stream",
     "text": [
      "[0, 1, 2, 3, 4, 5, 6, 7, 8, 9]\n"
     ]
    }
   ],
   "source": [
    "array_temp = [4,6,8,2,3,1,5,9,7,0]\n",
    "\n",
    "# 삽입 정렬\n",
    "for i in range(1, len(array_temp)):\n",
    "    # i번째 위치 앞에것을 다 볼 수있게만,\n",
    "    for j in range(1, i+1):\n",
    "        next_index = i-j # 0\n",
    "        my_index = i-j+1\n",
    "        if array_temp[next_index] > array_temp[my_index]:\n",
    "            array_temp[next_index], array_temp[my_index] = \\\n",
    "                array_temp[my_index], array_temp[next_index]\n",
    "        else:\n",
    "            break\n",
    "    # i=3, value=2\n",
    "    # 첫 번째, j=1\n",
    "    # next_index=3-1=2, value=8\n",
    "    # my_index=3, value=2\n",
    "    # 4 6 8 2 3 1 5 9 7 0\n",
    "    # 4 6 2 8 3 1 5 9 7 0\n",
    "\n",
    "    # 두 번째, j=2\n",
    "    # next_index 3 - 2 = 1, value=6\n",
    "    # my_index = 2 , value = 2\n",
    "    # 4 6 2 8 3 1 5 9 7 0\n",
    "    # 4 2 6 8 3 1 5 9 7 0\n",
    "\n",
    "    # 세 번째, j=3\n",
    "    # next_index 3 - 3 = 0, value=4\n",
    "    # my_index = 1 , value = 2\n",
    "    # 4 2 6 8 3 1 5 9 7 0\n",
    "    # 2 4 6 8 3 1 5 9 7 0\n",
    "\n",
    "print(array_temp)"
   ]
  },
  {
   "cell_type": "code",
   "execution_count": 5,
   "metadata": {},
   "outputs": [
    {
     "data": {
      "text/plain": [
       "[9, 8, 7, 6, 5, 4, 3, 2, 1, 0]"
      ]
     },
     "execution_count": 5,
     "metadata": {},
     "output_type": "execute_result"
    }
   ],
   "source": [
    "list(range(len(array_temp)-1, -1, -1))"
   ]
  },
  {
   "cell_type": "code",
   "execution_count": 7,
   "metadata": {},
   "outputs": [
    {
     "data": {
      "text/plain": [
       "[0, 1, 2, 3, 4, 5, 6, 7]"
      ]
     },
     "execution_count": 7,
     "metadata": {},
     "output_type": "execute_result"
    }
   ],
   "source": [
    "list(range(8))"
   ]
  },
  {
   "cell_type": "code",
   "execution_count": 13,
   "metadata": {},
   "outputs": [
    {
     "name": "stdout",
     "output_type": "stream",
     "text": [
      "[4, 6, 2, 3, 1, 5, 8, 7, 0, 9]\n",
      "[4, 2, 3, 1, 5, 6, 7, 0, 8, 9]\n",
      "[2, 3, 1, 4, 5, 6, 0, 7, 8, 9]\n",
      "[2, 1, 3, 4, 5, 0, 6, 7, 8, 9]\n",
      "[1, 2, 3, 4, 0, 5, 6, 7, 8, 9]\n",
      "[1, 2, 3, 0, 4, 5, 6, 7, 8, 9]\n",
      "[1, 2, 0, 3, 4, 5, 6, 7, 8, 9]\n",
      "[1, 0, 2, 3, 4, 5, 6, 7, 8, 9]\n",
      "[0, 1, 2, 3, 4, 5, 6, 7, 8, 9]\n",
      "[0, 1, 2, 3, 4, 5, 6, 7, 8, 9]\n",
      "[0, 1, 2, 3, 4, 5, 6, 7, 8, 9]\n"
     ]
    }
   ],
   "source": [
    "array_temp = [4,6,8,2,3,1,5,9,7,0]\n",
    "\n",
    "for i in range(len(array_temp)-1, -1, -1):\n",
    "    for j in range(i):\n",
    "        if array_temp[j] < array_temp[j+1]:\n",
    "            pass\n",
    "        else:\n",
    "            array_temp[j], array_temp[j+1] = array_temp[j+1], array_temp[j]\n",
    "    print(array_temp)\n",
    "print(array_temp)"
   ]
  },
  {
   "cell_type": "code",
   "execution_count": null,
   "metadata": {},
   "outputs": [],
   "source": []
  }
 ],
 "metadata": {
  "kernelspec": {
   "display_name": "Python 3",
   "language": "python",
   "name": "python3"
  },
  "language_info": {
   "codemirror_mode": {
    "name": "ipython",
    "version": 3
   },
   "file_extension": ".py",
   "mimetype": "text/x-python",
   "name": "python",
   "nbconvert_exporter": "python",
   "pygments_lexer": "ipython3",
   "version": "3.10.9"
  },
  "orig_nbformat": 4,
  "vscode": {
   "interpreter": {
    "hash": "4a841b516ba3d34b637c71b11fb62683baa4492352e0bc4e000ad8609650d6b1"
   }
  }
 },
 "nbformat": 4,
 "nbformat_minor": 2
}
