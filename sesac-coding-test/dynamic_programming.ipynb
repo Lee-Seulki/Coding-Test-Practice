{
 "cells": [
  {
   "attachments": {},
   "cell_type": "markdown",
   "metadata": {},
   "source": [
    "## 예제 : 피보나치 수열\n",
    "- 피보나치 수열을 재귀함수로 구현"
   ]
  },
  {
   "cell_type": "code",
   "execution_count": 12,
   "metadata": {},
   "outputs": [],
   "source": [
    "def fibo(n):\n",
    "    if n == 0:\n",
    "        return 0\n",
    "    elif n == 1 or n == 2:\n",
    "        return 1\n",
    "    else:\n",
    "        return fibo(n-1) + fibo(n-2)"
   ]
  },
  {
   "cell_type": "code",
   "execution_count": 13,
   "metadata": {},
   "outputs": [
    {
     "name": "stdout",
     "output_type": "stream",
     "text": [
      "21\n"
     ]
    }
   ],
   "source": [
    "print(fibo(8))"
   ]
  },
  {
   "attachments": {},
   "cell_type": "markdown",
   "metadata": {},
   "source": [
    "- 피보나치 수열을 동적계획법으로 구현 (계산된 결과를 저장해놓고, 꺼내서 사용) \n",
    "- 시간비교"
   ]
  },
  {
   "cell_type": "code",
   "execution_count": 8,
   "metadata": {},
   "outputs": [],
   "source": [
    "def fibo_dp(n):\n",
    "    dp = [0, 1, 1]\n",
    "    if n < 3:\n",
    "        return dp[n]\n",
    "    else:\n",
    "        for i in range(3, n+1):\n",
    "            # 계산된 결과를 저장하기\n",
    "            dp.append(dp[i-1]+dp[i-2])\n",
    "        return dp[n]"
   ]
  },
  {
   "cell_type": "code",
   "execution_count": 11,
   "metadata": {},
   "outputs": [
    {
     "name": "stdout",
     "output_type": "stream",
     "text": [
      "8\n"
     ]
    }
   ],
   "source": [
    "print(fibo_dp(6))"
   ]
  },
  {
   "cell_type": "code",
   "execution_count": null,
   "metadata": {},
   "outputs": [],
   "source": [
    "# 정수 삼각형 강사님 풀이\n",
    "def solution(triangle):\n",
    "    answer = 0\n",
    "    answer_list = [triangle[0]]\n",
    "\n",
    "    for i in range(1, len(triangle)):\n",
    "        # 해당 층의 길이 확인(합쳐지는 곳 체크)\n",
    "        len_row = len(triangle[i])\n",
    "        temp = []\n",
    "        # 인덱스와 값 확인\n",
    "        for j, v in enumerate(triangle[i]):\n",
    "            if j == 0:\n",
    "                temp.append(answer_list[i-1][0] + v)\n",
    "            elif j == len_row-1:\n",
    "                temp.append(answer_list[i-1[-1] + v])\n",
    "            else:\n",
    "                temp.append(v+max(answer_list[i-1][j-1], answer_list[i-1][j]))\n",
    "        answer_list.append(temp)\n",
    "    \n",
    "    return max(answer_list[-1])"
   ]
  }
 ],
 "metadata": {
  "kernelspec": {
   "display_name": "myenv",
   "language": "python",
   "name": "python3"
  },
  "language_info": {
   "codemirror_mode": {
    "name": "ipython",
    "version": 3
   },
   "file_extension": ".py",
   "mimetype": "text/x-python",
   "name": "python",
   "nbconvert_exporter": "python",
   "pygments_lexer": "ipython3",
   "version": "3.8.15 (default, Nov 24 2022, 09:04:07) \n[Clang 14.0.6 ]"
  },
  "orig_nbformat": 4,
  "vscode": {
   "interpreter": {
    "hash": "eaca73d897e014df93ce65ad3bbfe4aaca44559dcbec2bc28f2295bb2ba22ddf"
   }
  }
 },
 "nbformat": 4,
 "nbformat_minor": 2
}
