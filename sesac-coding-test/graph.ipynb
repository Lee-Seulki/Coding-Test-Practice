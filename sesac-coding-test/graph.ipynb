{
 "cells": [
  {
   "attachments": {},
   "cell_type": "markdown",
   "metadata": {},
   "source": [
    "## 예제 : 크루스칼 알고리즘 구현\n",
    "- Parent Node를 담은 자료 생성 (처음엔 자기자신으로 초기화)\n",
    "- 간선의 가중치가 작은 순서대로 정렬 (혹은 우선순위 큐 사용)\n",
    "- 하나씩 꺼내서 Union (두 노드 중 작은 노드로 부모 설정하고 간선을 추가) & Find (부모 노드 확인)\n",
    "- 사이클이 발생하면 -> 두 노드의 parent 노드가 같으면, Union 하지 않음"
   ]
  },
  {
   "cell_type": "code",
   "execution_count": 1,
   "metadata": {},
   "outputs": [],
   "source": [
    "inputs = '''1 2 6\n",
    "1 4 4\n",
    "2 3 5\n",
    "2 4 3\n",
    "2 5 7\n",
    "2 6 8\n",
    "3 6 8\n",
    "4 5 9\n",
    "5 6 11'''\n",
    "graph = [tuple(map(int, i.split())) for i in inputs.split('\\n')]"
   ]
  },
  {
   "cell_type": "code",
   "execution_count": 2,
   "metadata": {},
   "outputs": [
    {
     "data": {
      "text/plain": [
       "[(1, 2, 6),\n",
       " (1, 4, 4),\n",
       " (2, 3, 5),\n",
       " (2, 4, 3),\n",
       " (2, 5, 7),\n",
       " (2, 6, 8),\n",
       " (3, 6, 8),\n",
       " (4, 5, 9),\n",
       " (5, 6, 11)]"
      ]
     },
     "execution_count": 2,
     "metadata": {},
     "output_type": "execute_result"
    }
   ],
   "source": [
    "graph"
   ]
  },
  {
   "cell_type": "code",
   "execution_count": 6,
   "metadata": {},
   "outputs": [
    {
     "data": {
      "text/plain": [
       "[0, 1, 2, 3, 4, 5, 6]"
      ]
     },
     "execution_count": 6,
     "metadata": {},
     "output_type": "execute_result"
    }
   ],
   "source": [
    "# Parent Node를 담은 자료 생성 (처음엔 자기자신으로 초기화)\n",
    "N = 6\n",
    "parent = [i for i in range(N+1)]\n",
    "parent # i번째 노드가 바로 자기 자신에게 갈 수 있도록(0은 사용 안함)"
   ]
  },
  {
   "cell_type": "code",
   "execution_count": 7,
   "metadata": {},
   "outputs": [
    {
     "data": {
      "text/plain": [
       "[(2, 4, 3),\n",
       " (1, 4, 4),\n",
       " (2, 3, 5),\n",
       " (1, 2, 6),\n",
       " (2, 5, 7),\n",
       " (2, 6, 8),\n",
       " (3, 6, 8),\n",
       " (4, 5, 9),\n",
       " (5, 6, 11)]"
      ]
     },
     "execution_count": 7,
     "metadata": {},
     "output_type": "execute_result"
    }
   ],
   "source": [
    "# 간선의 가중치가 작은 순서대로 정렬 (혹은 우선순위 큐 사용)\n",
    "graph = sorted(graph, key=lambda cost: cost[2])\n",
    "graph"
   ]
  },
  {
   "cell_type": "code",
   "execution_count": null,
   "metadata": {},
   "outputs": [],
   "source": [
    "from queue import PriorityQueue"
   ]
  },
  {
   "cell_type": "code",
   "execution_count": 8,
   "metadata": {},
   "outputs": [],
   "source": [
    "# 하나씩 꺼내서 Union (두 노드 중 작은 노드로 부모 설정하고 간선을 추가) & Find (부모 노드 확인)\n",
    "# 특정 원소가 속한 집합을 찾기\n",
    "def find_parent(parent, x):\n",
    "    if parent[x] != x:\n",
    "        parent[x] = find_parent(parent, parent[x])\n",
    "    return parent[x]\n",
    "\n",
    "def union(parent, a, b):\n",
    "    a = find_parent(parent, a)\n",
    "    b = find_parent(parent, b)\n",
    "    # 두 노드 중 작은 노드를 부모로 설정\n",
    "    if a < b:\n",
    "        parent[b] = a\n",
    "    else:\n",
    "        parent[a] = b\n",
    "# 사이클이 발생하면 -> 두 노드의 parent 노드가 같으면, Union 하지 않음\n",
    "result = 0\n",
    "\n",
    "for g in graph:\n",
    "    a, b, cost = g\n",
    "    # 두 노드의 부모 노드가 같지 않으면 union 진행\n",
    "    if find_parent(parent, a) != find_parent(parent, b):\n",
    "        union(parent, a, b)\n",
    "        result += cost"
   ]
  },
  {
   "cell_type": "code",
   "execution_count": 9,
   "metadata": {},
   "outputs": [
    {
     "name": "stdout",
     "output_type": "stream",
     "text": [
      "27\n"
     ]
    }
   ],
   "source": [
    "print(result)"
   ]
  }
 ],
 "metadata": {
  "kernelspec": {
   "display_name": "myenv",
   "language": "python",
   "name": "python3"
  },
  "language_info": {
   "codemirror_mode": {
    "name": "ipython",
    "version": 3
   },
   "file_extension": ".py",
   "mimetype": "text/x-python",
   "name": "python",
   "nbconvert_exporter": "python",
   "pygments_lexer": "ipython3",
   "version": "3.8.15"
  },
  "orig_nbformat": 4,
  "vscode": {
   "interpreter": {
    "hash": "eaca73d897e014df93ce65ad3bbfe4aaca44559dcbec2bc28f2295bb2ba22ddf"
   }
  }
 },
 "nbformat": 4,
 "nbformat_minor": 2
}
