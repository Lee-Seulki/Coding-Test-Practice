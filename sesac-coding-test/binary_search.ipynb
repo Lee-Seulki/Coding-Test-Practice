{
 "cells": [
  {
   "attachments": {},
   "cell_type": "markdown",
   "metadata": {},
   "source": [
    "## 예제 : BinarySearch 재귀함수 구현\n",
    "- 함수의 파라미터는 목표 값, 시작 index, 끝 index, 그리고 정렬된 iterable한 객체이다. \n",
    "- 시작 index와 끝 index를 비교하여 시작 index가 끝 index보다 클 경우 종료\n",
    "- 중앙 index를 계산\n",
    "- (1) 중앙값이 target과 같으면 해당 index 반환\n",
    "- (2) 중앙값이 target보다 작으면, (3) 중앙값이 target보다 크면, 각각 자기 자신을 다시 호출 (start, end를 mid로 대체)"
   ]
  },
  {
   "cell_type": "code",
   "execution_count": 8,
   "metadata": {},
   "outputs": [],
   "source": [
    "# target, start_index, end_index, sorted_iterable\n",
    "def binary_search(target, start_index, end_index, sorted_iterable):\n",
    "    # 시작 index가 끝 index보다 클 경우 종료\n",
    "    if start_index > end_index:\n",
    "        return None\n",
    "\n",
    "    mid_index = (start_index+end_index) // 2\n",
    "    # 중앙값이 target과 같으면 해당 index 반환\n",
    "    if sorted_iterable[mid_index] == target:\n",
    "        return mid_index\n",
    "    # 중앙값이 target보다 작으면\n",
    "    # target이 중앙값 보다 큰 것이니 중앙값 +1 \n",
    "    elif sorted_iterable[mid_index] < target:\n",
    "        return binary_search(target, mid_index+1, end_index, sorted_iterable)\n",
    "    # 중앙값이 target보다 크면\n",
    "    else:\n",
    "        return binary_search(target, start_index, mid_index-1, sorted_iterable)"
   ]
  },
  {
   "cell_type": "code",
   "execution_count": 11,
   "metadata": {},
   "outputs": [
    {
     "name": "stdout",
     "output_type": "stream",
     "text": [
      "2\n",
      "4\n",
      "True\n"
     ]
    }
   ],
   "source": [
    "sorted_iterable = [1, 3, 4, 5, 8, 9, 10]\n",
    "target = 4\n",
    "start_index = 1\n",
    "end_index = 5\n",
    "\n",
    "target_index = binary_search(target, start_index, end_index, sorted_iterable)\n",
    "print(target_index)\n",
    "print(sorted_iterable[target_index])\n",
    "print(target == sorted_iterable[target_index])"
   ]
  }
 ],
 "metadata": {
  "kernelspec": {
   "display_name": "myenv",
   "language": "python",
   "name": "python3"
  },
  "language_info": {
   "codemirror_mode": {
    "name": "ipython",
    "version": 3
   },
   "file_extension": ".py",
   "mimetype": "text/x-python",
   "name": "python",
   "nbconvert_exporter": "python",
   "pygments_lexer": "ipython3",
   "version": "3.8.15"
  },
  "orig_nbformat": 4,
  "vscode": {
   "interpreter": {
    "hash": "eaca73d897e014df93ce65ad3bbfe4aaca44559dcbec2bc28f2295bb2ba22ddf"
   }
  }
 },
 "nbformat": 4,
 "nbformat_minor": 2
}
